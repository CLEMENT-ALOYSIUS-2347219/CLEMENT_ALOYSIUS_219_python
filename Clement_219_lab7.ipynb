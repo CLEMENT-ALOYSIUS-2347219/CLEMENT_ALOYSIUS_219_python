{
 "cells": [
  {
   "cell_type": "markdown",
   "metadata": {},
   "source": [
    "Q1. Create two 3×3 matrices using the random function in Numpy and perform the following operations.\n",
    "è Product (prod)\n",
    "è Multiplication (multiply)\n",
    "è Dot Product (dot)\n"
   ]
  },
  {
   "cell_type": "code",
   "execution_count": 19,
   "metadata": {},
   "outputs": [
    {
     "name": "stdout",
     "output_type": "stream",
     "text": [
      "matrix-1\n",
      "[[0 7 9]\n",
      " [6 5 6]\n",
      " [0 6 9]]\n",
      "matrix-2\n",
      "[[6 2 6]\n",
      " [8 6 4]\n",
      " [1 2 0]]\n",
      "Product of the matrices:\n",
      "[[65 60 28]\n",
      " [82 54 56]\n",
      " [57 54 24]]\n",
      "Multiplication of the matrices:\n",
      "[[ 0 14 54]\n",
      " [48 30 24]\n",
      " [ 0 12  0]]\n",
      "Dot product of the matrices:\n",
      "[[65 60 28]\n",
      " [82 54 56]\n",
      " [57 54 24]]\n"
     ]
    }
   ],
   "source": [
    "import numpy as np\n",
    "\n",
    "# Create two 3x3 matrices\n",
    "mat1 = np.random.randint(10, size=(3,3))\n",
    "mat2 = np.random.randint(10, size=(3,3))\n",
    "\n",
    "print(\"matrix-1\")\n",
    "print(mat1)\n",
    "print(\"matrix-2\")\n",
    "print(mat2)\n",
    "\n",
    "# Product (prod)\n",
    "product = np.matmul(mat1, mat2)\n",
    "print(\"Product of the matrices:\")\n",
    "print(product)\n",
    "\n",
    "# Multiplication (multiply)\n",
    "multiplication = mat1 * mat2\n",
    "print(\"Multiplication of the matrices:\")\n",
    "print(multiplication)\n",
    "\n",
    "# Dot product (dot)\n",
    "dot_product = np.dot(mat1, mat2)\n",
    "print(\"Dot product of the matrices:\")\n",
    "print(dot_product)"
   ]
  },
  {
   "cell_type": "markdown",
   "metadata": {},
   "source": [
    "Q2. Perform the following set operations using the Numpy functions.\n",
    "è Union\n",
    "è Intersection\n",
    "è Set difference\n",
    "è XOR\n"
   ]
  },
  {
   "cell_type": "code",
   "execution_count": 20,
   "metadata": {},
   "outputs": [
    {
     "name": "stdout",
     "output_type": "stream",
     "text": [
      "Union of the sets:\n",
      "[1 2 3 4 5 6 7]\n",
      "Intersection of the sets:\n",
      "[3 4 5]\n",
      "Set difference of the sets:\n",
      "[1 2]\n",
      "XOR of the sets:\n",
      "[1 2 6 7]\n"
     ]
    }
   ],
   "source": [
    "import numpy as np\n",
    "\n",
    "# Create two sets\n",
    "set1 = np.array([1, 2, 3, 4, 5])\n",
    "set2 = np.array([3, 4, 5, 6, 7])\n",
    "\n",
    "# Union\n",
    "union = np.union1d(set1, set2)\n",
    "print(\"Union of the sets:\")\n",
    "print(union)\n",
    "\n",
    "# Intersection\n",
    "intersection = np.intersect1d(set1, set2)\n",
    "print(\"Intersection of the sets:\")\n",
    "print(intersection)\n",
    "\n",
    "# Set difference\n",
    "difference = np.setdiff1d(set1, set2)\n",
    "print(\"Set difference of the sets:\")\n",
    "print(difference)\n",
    "\n",
    "# XOR\n",
    "xor = np.setxor1d(set1, set2)\n",
    "print(\"XOR of the sets:\")\n",
    "print(xor)"
   ]
  },
  {
   "cell_type": "markdown",
   "metadata": {},
   "source": [
    "Q3. Create a 1D array using Random function and perform the following operations.\n",
    "è Cumulative sum\n",
    "è Cumulative Product\n",
    "è Discrete difference (with n=3)\n",
    "è Find the unique elements from the array\n"
   ]
  },
  {
   "cell_type": "code",
   "execution_count": 21,
   "metadata": {},
   "outputs": [
    {
     "name": "stdout",
     "output_type": "stream",
     "text": [
      "Cumulative sum of the array:\n",
      "[ 8  9 18 19 25 26 35 44 49 53]\n",
      "Cumulative product of the array:\n",
      "[     8      8     72     72    432    432   3888  34992 174960 699840]\n",
      "Discrete difference of the array (with n=3):\n",
      "[-31  29 -23  23 -21   4   7]\n",
      "Unique elements from the array:\n",
      "[1 4 5 6 8 9]\n"
     ]
    }
   ],
   "source": [
    "import numpy as np\n",
    "\n",
    "# Create a 1D array with 10 elements\n",
    "arr = np.random.randint(1, 10, 10)\n",
    "\n",
    "# Cumulative sum\n",
    "cumsum = np.cumsum(arr)\n",
    "print(\"Cumulative sum of the array:\")\n",
    "print(cumsum)\n",
    "\n",
    "# Cumulative product\n",
    "cumprod = np.cumprod(arr)\n",
    "print(\"Cumulative product of the array:\")\n",
    "print(cumprod)\n",
    "\n",
    "# Discrete difference (with n=3)\n",
    "diff = np.diff(arr, n=3)\n",
    "print(\"Discrete difference of the array (with n=3):\")\n",
    "print(diff)\n",
    "\n",
    "# Find the unique elements from the array\n",
    "unique_elements = np.unique(arr)\n",
    "print(\"Unique elements from the array:\")\n",
    "print(unique_elements)"
   ]
  },
  {
   "cell_type": "markdown",
   "metadata": {},
   "source": [
    "Q4. Create two 1D array and perform the Addition using zip(), add() and user defined function (frompyfunc())\n"
   ]
  },
  {
   "cell_type": "code",
   "execution_count": 22,
   "metadata": {},
   "outputs": [
    {
     "name": "stdout",
     "output_type": "stream",
     "text": [
      "Addition using zip() and add():\n",
      "[7 9 11 13 15]\n",
      "Addition using user defined function:\n",
      "[ 7  9 11 13 15]\n"
     ]
    }
   ],
   "source": [
    "import numpy as np\n",
    "\n",
    "# Create two 1D arrays\n",
    "arr1 = np.array([1, 2, 3, 4, 5])\n",
    "arr2 = np.array([6, 7, 8, 9, 10])\n",
    "\n",
    "# Addition using zip() and add()\n",
    "def add_func(a, b):\n",
    "  return a + b\n",
    "\n",
    "addition_using_zip_and_add = np.frompyfunc(add_func, 2, 1)(arr1, arr2)\n",
    "print(\"Addition using zip() and add():\")\n",
    "print(addition_using_zip_and_add)\n",
    "\n",
    "# Addition using user defined function\n",
    "def my_add_func(a, b):\n",
    "  return a + b\n",
    "\n",
    "addition_using_user_defined_function = np.vectorize(my_add_func)(arr1, arr2)\n",
    "print(\"Addition using user defined function:\")\n",
    "print(addition_using_user_defined_function)"
   ]
  },
  {
   "cell_type": "markdown",
   "metadata": {},
   "source": [
    "Q5. Find the LCM (Least Common Multiple) and GCD (Greatest Common Divisor) of an array of elements using reduce().\n"
   ]
  },
  {
   "cell_type": "code",
   "execution_count": 23,
   "metadata": {},
   "outputs": [
    {
     "name": "stdout",
     "output_type": "stream",
     "text": [
      "LCM of the array: 60\n",
      "GCD of the array: 1\n"
     ]
    }
   ],
   "source": [
    "import numpy as np\n",
    "from functools import reduce\n",
    "\n",
    "# Create an array of elements\n",
    "arr = np.array([1, 2, 3, 4, 5])\n",
    "\n",
    "# Find the LCM using reduce()\n",
    "def lcm(a, b):\n",
    "  return a * b // np.gcd(a, b)\n",
    "\n",
    "lcm_of_arr = reduce(lcm, arr)\n",
    "print(\"LCM of the array:\", lcm_of_arr)\n",
    "\n",
    "# Find the GCD using reduce()\n",
    "def gcd(a, b):\n",
    "  while b:\n",
    "    a, b = b, a % b\n",
    "  return a\n",
    "\n",
    "gcd_of_arr = reduce(gcd, arr)\n",
    "print(\"GCD of the array:\", gcd_of_arr)"
   ]
  }
 ],
 "metadata": {
  "kernelspec": {
   "display_name": "Python 3",
   "language": "python",
   "name": "python3"
  },
  "language_info": {
   "codemirror_mode": {
    "name": "ipython",
    "version": 3
   },
   "file_extension": ".py",
   "mimetype": "text/x-python",
   "name": "python",
   "nbconvert_exporter": "python",
   "pygments_lexer": "ipython3",
   "version": "3.9.6"
  },
  "orig_nbformat": 4
 },
 "nbformat": 4,
 "nbformat_minor": 2
}
