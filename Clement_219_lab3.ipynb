{
 "cells": [
  {
   "cell_type": "code",
   "execution_count": 30,
   "metadata": {},
   "outputs": [
    {
     "name": "stdout",
     "output_type": "stream",
     "text": [
      "{'name': 'clement', 'Domain_name': 'milkdairymanagement', 'Regno': '2347219'}\n"
     ]
    }
   ],
   "source": [
    "#Lab Exercise 3\n",
    "#Write a function in Python with a string such that it accepts a parameter- “stringsplit”. This encoded string will contain your name, domain name and register number. You can separate the values in the string by any number of underscores. [The string should not contain any other underscore symbols in your name, domain name and register number]. The function should return a Python dictionary with your name, domain name and register number._\n",
    "\n",
    "def solve_string(stringsplit):\n",
    "    parts = stringsplit.split('_')\n",
    "\n",
    "    name = parts[0].strip()\n",
    "    domain_name = parts[1].strip()\n",
    "    regno = parts[2].strip()\n",
    "\n",
    "    solved_dict = {\n",
    "        \"name\": name,\n",
    "        \"Domain_name\": domain_name,\n",
    "        \"Regno\": regno\n",
    "    }\n",
    "\n",
    "    return solved_dict\n",
    "\n",
    "\n",
    "encoded_string = \"clement_milkdairymanagement_2347219\"\n",
    "solved_dict = solve_string(encoded_string)\n",
    "print(solved_dict)\n"
   ]
  },
  {
   "cell_type": "code",
   "execution_count": 31,
   "metadata": {},
   "outputs": [
    {
     "name": "stdout",
     "output_type": "stream",
     "text": [
      "butter : salted\n",
      "cheese : mozarilla\n"
     ]
    }
   ],
   "source": [
    "#Lab Exercise 4\n",
    "#Write a Python program to implement the object-oriented concepts of multiple, Multilevel and Hierarchical Inheritances using your domain applications.(milk dairy management)\n",
    "\n",
    "#multiple inheritance\n",
    "class butter:\n",
    "    buttertype = \"\"\n",
    " \n",
    "    def butter(self):\n",
    "        print(self.buttertype)\n",
    "\n",
    "class cheese:\n",
    "    cheesetype = \"\"\n",
    " \n",
    "    def cheese(self):\n",
    "        print(self.cheesetype)\n",
    "  \n",
    "class milk(butter, cheese):\n",
    "    def milk(self):\n",
    "        print(\"butter :\", self.buttertype)\n",
    "        print(\"cheese :\", self.cheesetype)\n",
    " \n",
    " \n",
    "# Driver's code\n",
    "s1 = milk()\n",
    "s1.buttertype = \"salted\"\n",
    "s1.cheesetype = \"mozarilla\"\n",
    "s1.milk()"
   ]
  },
  {
   "cell_type": "code",
   "execution_count": 32,
   "metadata": {},
   "outputs": [
    {
     "name": "stdout",
     "output_type": "stream",
     "text": [
      "my milk dairy has variety of products,one of the most selling product is\n",
      "ice-creams\n",
      "there are multiple flavours, choco-chip is the most tastiest\n"
     ]
    }
   ],
   "source": [
    "#multilevel inheritance\n",
    "class milk_dairy:  \n",
    "    def manage(self):  \n",
    "        print(\"my milk dairy has variety of products,one of the most selling product is\")  \n",
    "\n",
    "class ice_cream(milk_dairy):  \n",
    "    def product(self):  \n",
    "        print(\"ice-creams\")  \n",
    "\n",
    "class choco_chip(ice_cream):  \n",
    "    def flavour(self):  \n",
    "        print(\"there are multiple flavours, choco-chip is the most tastiest\")  \n",
    "d = choco_chip()  \n",
    "d.manage()  \n",
    "d.product()  \n",
    "d.flavour()  "
   ]
  },
  {
   "cell_type": "code",
   "execution_count": 33,
   "metadata": {},
   "outputs": [
    {
     "name": "stdout",
     "output_type": "stream",
     "text": [
      "milk is obatined from 2 sources\n",
      "1-cow milk\n",
      "2-buffalo milk\n"
     ]
    }
   ],
   "source": [
    "# Python program to demonstrate\n",
    "# Hierarchical inheritance\n",
    "\n",
    "\n",
    "# Base class\n",
    "class milk:\n",
    "\tdef func1(self):\n",
    "\t\tprint(\"milk is obatined from 2 sources\")\n",
    "\n",
    "# Derived class1\n",
    "\n",
    "\n",
    "class cow(milk):\n",
    "\tdef func2(self):\n",
    "\t\tprint(\"1-cow milk\")\n",
    "\n",
    "# Derivied class2\n",
    "\n",
    "\n",
    "class buffalo(milk):\n",
    "\tdef func3(self):\n",
    "\t\tprint(\"2-buffalo milk\")\n",
    "\n",
    "\n",
    "# Driver's code\n",
    "object1 = cow()\n",
    "object2 = buffalo()\n",
    "object1.func1()\n",
    "object1.func2()\n",
    "object2.func3()\n"
   ]
  }
 ],
 "metadata": {
  "kernelspec": {
   "display_name": "Python 3",
   "language": "python",
   "name": "python3"
  },
  "language_info": {
   "name": "python",
   "version": "3.9.6"
  },
  "orig_nbformat": 4
 },
 "nbformat": 4,
 "nbformat_minor": 2
}
