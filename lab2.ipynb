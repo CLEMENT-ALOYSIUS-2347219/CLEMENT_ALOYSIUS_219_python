{
 "cells": [
  {
   "cell_type": "code",
   "execution_count": 6,
   "metadata": {},
   "outputs": [
    {
     "name": "stdout",
     "output_type": "stream",
     "text": [
      "['milk', 'dairy']\n",
      "['milk', 'dairy', ['butter', 'ghee']]\n",
      "['milk', ['panner'], 'dairy', ['butter', 'ghee']]\n",
      "['milk', ['panner'], 'dairy', ['butter', 'ghee'], 'ice-cream', 'curd']\n"
     ]
    }
   ],
   "source": [
    "#List of my Domain\n",
    "list1=[\"milk\",\"dairy\"]\n",
    "print(list1)\n",
    "#append\n",
    "list1.append([\"butter\",\"ghee\"])\n",
    "print(list1)\n",
    "#insert\n",
    "list1.insert(1,[\"panner\"])\n",
    "print(list1)\n",
    "#extend\n",
    "list1.extend([\"ice-cream\",\"curd\"])\n",
    "print(list1)"
   ]
  },
  {
   "cell_type": "code",
   "execution_count": 7,
   "metadata": {},
   "outputs": [
    {
     "name": "stdout",
     "output_type": "stream",
     "text": [
      "[8, 23, 15, 36, 89, 20]\n",
      "[20, 23, 15, 36, 89, 8]\n",
      "8\n"
     ]
    }
   ],
   "source": [
    "#Creating a numeric list\n",
    "Ecomlist=[8,23,15,36,89,20]\n",
    "print(Ecomlist)\n",
    "#swaping first and last element\n",
    "Ecomlist[0],Ecomlist[-1]=Ecomlist[-1],Ecomlist[0]\n",
    "print(Ecomlist)\n",
    "#finding the smallest element\n",
    "print(min(Ecomlist))"
   ]
  },
  {
   "cell_type": "code",
   "execution_count": 8,
   "metadata": {},
   "outputs": [
    {
     "name": "stdout",
     "output_type": "stream",
     "text": [
      "{'b': [5, 10, 15], 'c': [1, 7, 10], 'a': [50, 100]}\n",
      "[('a', [50, 100]), ('b', [5, 10, 15]), ('c', [1, 7, 10])]\n"
     ]
    }
   ],
   "source": [
    "#creating dictionary\n",
    "dict1={\"b\":[5,10,15],\"c\":[1,7,10],\"a\":[50,100]}\n",
    "print(dict1)\n",
    "#sorting\n",
    "print(sorted(dict1.items()))\n"
   ]
  },
  {
   "cell_type": "code",
   "execution_count": 9,
   "metadata": {},
   "outputs": [
    {
     "name": "stdout",
     "output_type": "stream",
     "text": [
      "{'a': 15, 'b': 20, 'c': 5, 'd': 15}\n",
      "55\n"
     ]
    }
   ],
   "source": [
    "#Creating a numeric dict\n",
    "ecomdict={\"a\":15,\"b\":20,\"c\":5,\"d\":15}\n",
    "print(ecomdict)\n",
    "#Sum of values\n",
    "print(sum(ecomdict.values()))"
   ]
  },
  {
   "cell_type": "code",
   "execution_count": 10,
   "metadata": {},
   "outputs": [
    {
     "name": "stdout",
     "output_type": "stream",
     "text": [
      "[{'name': 'Clement', 'age': 21}, {'name': 'alwin', 'age': 22}, {'name': 'deepak', 'age': 20}]\n",
      "The list printed sorting by age in descending order: \n",
      "[{'name': 'alwin', 'age': 22}, {'name': 'Clement', 'age': 21}, {'name': 'deepak', 'age': 20}]\n"
     ]
    }
   ],
   "source": [
    "#creating dictionary\n",
    "list1 = [{\"name\": \"Clement\", \"age\": 21},{\"name\": \"alwin\", \"age\": 22},{\"name\": \"deepak\", \"age\": 20}]\n",
    "print(list1)\n",
    "print(\"The list printed sorting by age in descending order: \")\n",
    "print(sorted(list1, key=lambda i: i['age'], reverse=True))\n"
   ]
  }
 ],
 "metadata": {
  "kernelspec": {
   "display_name": "Python 3",
   "language": "python",
   "name": "python3"
  },
  "language_info": {
   "codemirror_mode": {
    "name": "ipython",
    "version": 3
   },
   "file_extension": ".py",
   "mimetype": "text/x-python",
   "name": "python",
   "nbconvert_exporter": "python",
   "pygments_lexer": "ipython3",
   "version": "3.9.6"
  },
  "orig_nbformat": 4
 },
 "nbformat": 4,
 "nbformat_minor": 2
}
