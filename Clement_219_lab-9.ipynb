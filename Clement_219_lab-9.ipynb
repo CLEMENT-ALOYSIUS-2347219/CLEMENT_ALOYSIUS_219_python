{
 "cells": [
  {
   "cell_type": "markdown",
   "metadata": {},
   "source": [
    "Q1. Write a program to distinguish between Array Indexing and Fancy Indexing."
   ]
  },
  {
   "cell_type": "code",
   "execution_count": 18,
   "metadata": {},
   "outputs": [
    {
     "name": "stdout",
     "output_type": "stream",
     "text": [
      "Array Indexing:\n",
      "2\n",
      "9\n",
      "\n",
      "Fancy Indexing:\n",
      "[2 6 7]\n"
     ]
    }
   ],
   "source": [
    "import numpy as np\n",
    "\n",
    "# Creating a sample 2D array\n",
    "arr = np.array([[1, 2, 3],\n",
    "                [4, 5, 6],\n",
    "                [7, 8, 9]])\n",
    "\n",
    "# Array Indexing\n",
    "print(\"Array Indexing:\")\n",
    "print(arr[0, 1])  # Accessing a single element at row 0, column 1\n",
    "print(arr[2, 2])  # Accessing a single element at row 2, column 2\n",
    "\n",
    "# Fancy Indexing\n",
    "print(\"\\nFancy Indexing:\")\n",
    "row_indices = np.array([0, 1, 2])\n",
    "col_indices = np.array([1, 2, 0])\n",
    "print(arr[row_indices, col_indices])  # Accessing elements using arrays of indices\n"
   ]
  },
  {
   "cell_type": "markdown",
   "metadata": {},
   "source": [
    "Q2. Execute the 2D array Slicing."
   ]
  },
  {
   "cell_type": "code",
   "execution_count": 19,
   "metadata": {},
   "outputs": [
    {
     "name": "stdout",
     "output_type": "stream",
     "text": [
      "Sliced array:\n",
      "[[2 3]\n",
      " [5 6]]\n"
     ]
    }
   ],
   "source": [
    "import numpy as np\n",
    "\n",
    "# Creating a sample 2D array\n",
    "arr = np.array([[1, 2, 3],\n",
    "                [4, 5, 6],\n",
    "                [7, 8, 9]])\n",
    "\n",
    "# Slicing\n",
    "print(\"Sliced array:\")\n",
    "print(arr[0:2, 1:3])  # Slicing rows 0 to 1 and columns 1 to 2\n"
   ]
  },
  {
   "cell_type": "markdown",
   "metadata": {},
   "source": [
    "Q3. Create the 5-Dimensional arrays using ‘ndmin’."
   ]
  },
  {
   "cell_type": "code",
   "execution_count": 20,
   "metadata": {},
   "outputs": [
    {
     "name": "stdout",
     "output_type": "stream",
     "text": [
      "[[[[[1 2 3 4]]]]]\n"
     ]
    }
   ],
   "source": [
    "import numpy as np\n",
    "\n",
    "# Creating a 5-D array with ndmin\n",
    "arr = np.array([1, 2, 3, 4], ndmin=5)\n",
    "print(arr)\n"
   ]
  },
  {
   "cell_type": "markdown",
   "metadata": {},
   "source": [
    "Q4. Reshape the array from 1-D to 2-D array."
   ]
  },
  {
   "cell_type": "code",
   "execution_count": 21,
   "metadata": {},
   "outputs": [
    {
     "name": "stdout",
     "output_type": "stream",
     "text": [
      "[[1 2 3]\n",
      " [4 5 6]]\n"
     ]
    }
   ],
   "source": [
    "import numpy as np\n",
    "\n",
    "# Creating a 1-D array\n",
    "arr = np.array([1, 2, 3, 4, 5, 6])\n",
    "\n",
    "# Reshaping to a 2-D array\n",
    "reshaped_arr = arr.reshape(2, 3)\n",
    "print(reshaped_arr)\n"
   ]
  },
  {
   "cell_type": "markdown",
   "metadata": {},
   "source": [
    "Q5. Perform the Stack functions in Numpy arrays – Stack(), hstack(), vstack(), and dstack()."
   ]
  },
  {
   "cell_type": "code",
   "execution_count": 22,
   "metadata": {},
   "outputs": [
    {
     "name": "stdout",
     "output_type": "stream",
     "text": [
      "Vertical Stack:\n",
      "[[1 2 3]\n",
      " [4 5 6]]\n",
      "\n",
      "Horizontal Stack:\n",
      "[1 2 3 4 5 6]\n",
      "\n",
      "Depth Stack:\n",
      "[[[1 4]\n",
      "  [2 5]\n",
      "  [3 6]]]\n",
      "\n",
      "Stack along New Axis:\n",
      "[[1 2 3]\n",
      " [4 5 6]]\n"
     ]
    }
   ],
   "source": [
    "import numpy as np\n",
    "\n",
    "# Creating sample arrays\n",
    "arr1 = np.array([1, 2, 3])\n",
    "arr2 = np.array([4, 5, 6])\n",
    "\n",
    "# Stack vertically\n",
    "vstacked = np.vstack((arr1, arr2))\n",
    "print(\"Vertical Stack:\")\n",
    "print(vstacked)\n",
    "\n",
    "# Stack horizontally\n",
    "hstacked = np.hstack((arr1, arr2))\n",
    "print(\"\\nHorizontal Stack:\")\n",
    "print(hstacked)\n",
    "\n",
    "# Stack along the third axis (depth)\n",
    "dstacked = np.dstack((arr1, arr2))\n",
    "print(\"\\nDepth Stack:\")\n",
    "print(dstacked)\n",
    "\n",
    "# Stack arrays along a new axis\n",
    "stacked = np.stack((arr1, arr2), axis=0)\n",
    "print(\"\\nStack along New Axis:\")\n",
    "print(stacked)\n"
   ]
  },
  {
   "cell_type": "markdown",
   "metadata": {},
   "source": [
    "Q6. Perform the searchsort method in Numpy array."
   ]
  },
  {
   "cell_type": "code",
   "execution_count": 23,
   "metadata": {},
   "outputs": [
    {
     "name": "stdout",
     "output_type": "stream",
     "text": [
      "Index for 3: 2\n"
     ]
    }
   ],
   "source": [
    "import numpy as np\n",
    "\n",
    "# Creating a sorted array\n",
    "arr = np.array([1, 2, 4, 5, 7, 8])\n",
    "\n",
    "# Using searchsorted to find the index where 3 would be inserted to maintain the sorted order\n",
    "index = np.searchsorted(arr, 3)\n",
    "print(\"Index for 3:\", index)\n"
   ]
  },
  {
   "cell_type": "markdown",
   "metadata": {},
   "source": [
    "Q7. Create Numpy Structured array using your domain features."
   ]
  },
  {
   "cell_type": "code",
   "execution_count": 24,
   "metadata": {},
   "outputs": [
    {
     "name": "stdout",
     "output_type": "stream",
     "text": [
      "Structured Array:\n",
      "[(b'Alice', 25, 92.5) (b'Bob', 30, 85. )]\n"
     ]
    }
   ],
   "source": [
    "import numpy as np\n",
    "\n",
    "# Define structured data type with domain features\n",
    "dtype = np.dtype([('name', 'S20'), ('age', int), ('score', float)])\n",
    "\n",
    "# Create an empty structured array\n",
    "data = np.array([], dtype=dtype)\n",
    "\n",
    "# Adding data to the structured array\n",
    "data = np.append(data, np.array([('Alice', 25, 92.5)], dtype=dtype))\n",
    "data = np.append(data, np.array([('Bob', 30, 85.0)], dtype=dtype))\n",
    "\n",
    "print(\"Structured Array:\")\n",
    "print(data)\n"
   ]
  },
  {
   "cell_type": "markdown",
   "metadata": {},
   "source": [
    "Q8. Create Data frame using List and Dictionary."
   ]
  },
  {
   "cell_type": "code",
   "execution_count": 25,
   "metadata": {},
   "outputs": [
    {
     "name": "stdout",
     "output_type": "stream",
     "text": [
      "DataFrame using List of Dictionaries:\n",
      "      Name  Age\n",
      "0   Lahari   22\n",
      "1    priya   20\n",
      "2  likitha   21\n",
      "\n",
      "DataFrame using Dictionary:\n",
      "      Name  Age\n",
      "0    Chris   21\n",
      "1   Deepak   21\n",
      "2  Clement   21\n"
     ]
    }
   ],
   "source": [
    "import pandas as pd\n",
    "\n",
    "# Create a DataFrame using a list of dictionaries\n",
    "data = [{'Name': 'Lahari', 'Age': 22},\n",
    "        {'Name': 'priya', 'Age': 20},\n",
    "        {'Name': 'likitha', 'Age': 21}]\n",
    "\n",
    "df = pd.DataFrame(data)\n",
    "\n",
    "# Create a DataFrame using a dictionary\n",
    "data_dict = {'Name': ['Chris', 'Deepak', 'Clement'],\n",
    "             'Age': [21, 21, 21]}\n",
    "\n",
    "df_dict = pd.DataFrame(data_dict)\n",
    "\n",
    "print(\"DataFrame using List of Dictionaries:\")\n",
    "print(df)\n",
    "\n",
    "print(\"\\nDataFrame using Dictionary:\")\n",
    "print(df_dict)\n"
   ]
  },
  {
   "cell_type": "markdown",
   "metadata": {},
   "source": [
    "Q9. Create Data frame on your Domain area and perform the following operations to find and eliminate the\n",
    "missing data from the dataset.\n",
    "• isnull()\n",
    "• notnull()\n",
    "• dropna()\n",
    "• fillna()\n",
    "• replace()\n",
    "• interpolate()"
   ]
  },
  {
   "cell_type": "code",
   "execution_count": 26,
   "metadata": {},
   "outputs": [
    {
     "name": "stdout",
     "output_type": "stream",
     "text": [
      "Missing Data:\n",
      "    Date  MilkProduction(liters)  Temperature(Celsius)  Humidity(%)\n",
      "0  False                   False                 False        False\n",
      "1  False                    True                 False        False\n",
      "2  False                   False                  True        False\n",
      "3  False                   False                 False         True\n",
      "4  False                   False                 False        False\n",
      "\n",
      "Not Missing Data:\n",
      "   Date  MilkProduction(liters)  Temperature(Celsius)  Humidity(%)\n",
      "0  True                    True                  True         True\n",
      "1  True                   False                  True         True\n",
      "2  True                    True                 False         True\n",
      "3  True                    True                  True        False\n",
      "4  True                    True                  True         True\n",
      "\n",
      "DataFrame without Missing Data:\n",
      "         Date  MilkProduction(liters)  Temperature(Celsius)  Humidity(%)\n",
      "0  2023-09-01                   100.0                  28.0         50.0\n",
      "4  2023-09-05                   110.0                  31.0         52.0\n",
      "\n",
      "DataFrame with Missing Values Filled with 0:\n",
      "         Date  MilkProduction(liters)  Temperature(Celsius)  Humidity(%)\n",
      "0  2023-09-01                   100.0                  28.0         50.0\n",
      "1  2023-09-02                     0.0                  30.0         55.0\n",
      "2  2023-09-03                   120.0                   0.0         48.0\n",
      "3  2023-09-04                   150.0                  29.0          0.0\n",
      "4  2023-09-05                   110.0                  31.0         52.0\n",
      "\n",
      "DataFrame with NaN Replaced:\n",
      "         Date  MilkProduction(liters)  Temperature(Celsius)  Humidity(%)\n",
      "0  2023-09-01                   100.0                  28.0         50.0\n",
      "1  2023-09-02                    -1.0                  30.0         55.0\n",
      "2  2023-09-03                   120.0                  -1.0         48.0\n",
      "3  2023-09-04                   150.0                  29.0         -1.0\n",
      "4  2023-09-05                   110.0                  31.0         52.0\n",
      "\n",
      "DataFrame with Interpolated Missing Values:\n",
      "         Date  MilkProduction(liters)  Temperature(Celsius)  Humidity(%)\n",
      "0  2023-09-01                   100.0                  28.0         50.0\n",
      "1  2023-09-02                   110.0                  30.0         55.0\n",
      "2  2023-09-03                   120.0                  29.5         48.0\n",
      "3  2023-09-04                   150.0                  29.0         50.0\n",
      "4  2023-09-05                   110.0                  31.0         52.0\n"
     ]
    },
    {
     "name": "stderr",
     "output_type": "stream",
     "text": [
      "C:\\Users\\asus\\AppData\\Local\\Temp\\ipykernel_122040\\2852805363.py:43: FutureWarning: DataFrame.interpolate with object dtype is deprecated and will raise in a future version. Call obj.infer_objects(copy=False) before interpolating instead.\n",
      "  df_interpolated = df.interpolate()\n"
     ]
    }
   ],
   "source": [
    "import pandas as pd\n",
    "import numpy as np\n",
    "\n",
    "# Create a sample DataFrame\n",
    "data = {\n",
    "    'Date': ['2023-09-01', '2023-09-02', '2023-09-03', '2023-09-04', '2023-09-05'],\n",
    "    'MilkProduction(liters)': [100, np.nan, 120, 150, 110],\n",
    "    'Temperature(Celsius)': [28, 30, np.nan, 29, 31],\n",
    "    'Humidity(%)': [50, 55, 48, np.nan, 52]\n",
    "}\n",
    "\n",
    "df = pd.DataFrame(data)\n",
    "\n",
    "# Find missing data\n",
    "missing_data = df.isnull()\n",
    "not_missing_data = df.notnull()\n",
    "\n",
    "print(\"Missing Data:\")\n",
    "print(missing_data)\n",
    "\n",
    "print(\"\\nNot Missing Data:\")\n",
    "print(not_missing_data)\n",
    "\n",
    "# Remove rows with missing data\n",
    "df_no_missing = df.dropna()\n",
    "\n",
    "print(\"\\nDataFrame without Missing Data:\")\n",
    "print(df_no_missing)\n",
    "\n",
    "# Fill missing values with 0\n",
    "df_filled = df.fillna(0)\n",
    "\n",
    "print(\"\\nDataFrame with Missing Values Filled with 0:\")\n",
    "print(df_filled)\n",
    "\n",
    "# Replace NaN with a custom value (e.g., -1)\n",
    "df_replaced = df.replace(np.nan, -1)\n",
    "\n",
    "print(\"\\nDataFrame with NaN Replaced:\")\n",
    "print(df_replaced)\n",
    "\n",
    "# Interpolate missing values\n",
    "df_interpolated = df.interpolate()\n",
    "\n",
    "print(\"\\nDataFrame with Interpolated Missing Values:\")\n",
    "print(df_interpolated)\n"
   ]
  },
  {
   "cell_type": "markdown",
   "metadata": {},
   "source": [
    "Q10. Perform the Hierarchical Indexing in the above created dataset."
   ]
  },
  {
   "cell_type": "code",
   "execution_count": 27,
   "metadata": {},
   "outputs": [
    {
     "name": "stdout",
     "output_type": "stream",
     "text": [
      "                                   Temperature(Celsius)  Humidity(%)\n",
      "Date       MilkProduction(liters)                                   \n",
      "2023-09-01 100.0                                   28.0         50.0\n",
      "2023-09-02 NaN                                     30.0         55.0\n",
      "2023-09-03 120.0                                    NaN         48.0\n",
      "2023-09-04 150.0                                   29.0          NaN\n",
      "2023-09-05 110.0                                   31.0         52.0\n"
     ]
    }
   ],
   "source": [
    "import pandas as pd\n",
    "import numpy as np\n",
    "\n",
    "# Create a sample DataFrame\n",
    "data = {\n",
    "    'Date': ['2023-09-01', '2023-09-02', '2023-09-03', '2023-09-04', '2023-09-05'],\n",
    "    'MilkProduction(liters)': [100, np.nan, 120, 150, 110],\n",
    "    'Temperature(Celsius)': [28, 30, np.nan, 29, 31],\n",
    "    'Humidity(%)': [50, 55, 48, np.nan, 52]\n",
    "}\n",
    "\n",
    "df = pd.DataFrame(data)\n",
    "\n",
    "# Perform Hierarchical Indexing\n",
    "df.set_index(['Date', 'MilkProduction(liters)'], inplace=True)\n",
    "\n",
    "# Display the DataFrame with Hierarchical Index\n",
    "print(df)\n"
   ]
  }
 ],
 "metadata": {
  "kernelspec": {
   "display_name": "Python 3",
   "language": "python",
   "name": "python3"
  },
  "language_info": {
   "codemirror_mode": {
    "name": "ipython",
    "version": 3
   },
   "file_extension": ".py",
   "mimetype": "text/x-python",
   "name": "python",
   "nbconvert_exporter": "python",
   "pygments_lexer": "ipython3",
   "version": "3.9.6"
  },
  "orig_nbformat": 4
 },
 "nbformat": 4,
 "nbformat_minor": 2
}
